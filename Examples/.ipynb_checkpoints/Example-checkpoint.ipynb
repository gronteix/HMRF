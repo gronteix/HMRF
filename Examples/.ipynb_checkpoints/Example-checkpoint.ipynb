{
 "cells": [
  {
   "cell_type": "code",
   "execution_count": 1,
   "metadata": {},
   "outputs": [],
   "source": [
    "import numpy as np\n",
    "from scipy.spatial import Delaunay\n",
    "import networkx as nx\n",
    "import matplotlib.pyplot as plt\n",
    "from mpl_toolkits.mplot3d import Axes3D\n",
    "import pandas\n",
    "import os\n",
    "\n",
    "import graphsonchip.graphmaker\n",
    "from graphsonchip.graphmaker import make_spheroids\n",
    "from graphsonchip.graphmaker import graph_generation_func\n",
    "from graphsonchip.graphplotter import graph_plot"
   ]
  },
  {
   "cell_type": "markdown",
   "metadata": {},
   "source": [
    "## Generate small plot"
   ]
  },
  {
   "cell_type": "code",
   "execution_count": 2,
   "metadata": {},
   "outputs": [],
   "source": [
    "cells = make_spheroids.generate_artificial_spheroid(10)['cells']\n",
    "spheroid = {}\n",
    "spheroid['cells'] = cells\n",
    "\n",
    "G = graph_generation_func.generate_voronoi_graph(spheroid, dCells = 0.6)\n",
    "\n",
    "for ind in G.nodes():\n",
    "    \n",
    "    if ind % 2 == 0:\n",
    "    \n",
    "        G.add_node(ind, color = 'r')\n",
    "        \n",
    "    else:\n",
    "    \n",
    "        G.add_node(ind, color = 'b')"
   ]
  },
  {
   "cell_type": "code",
   "execution_count": 3,
   "metadata": {},
   "outputs": [
    {
     "data": {
      "image/png": "[encoded data removed]",
      "text/plain": [
       "<Figure size 576x576 with 1 Axes>"
      ]
     },
     "metadata": {},
     "output_type": "display_data"
    }
   ],
   "source": [
    "graph_plot.network_plot_3D(G)\n",
    "\n",
    "#plt.savefig('example_code.pdf')"
   ]
  },
  {
   "cell_type": "code",
   "execution_count": null,
   "metadata": {},
   "outputs": [],
   "source": [
    "path = r'/Users/gustaveronteix/Documents/Projets/Projets Code/3D-Segmentation-Sebastien/data'\n",
    "\n",
    "spheroid_data = pandas.read_csv(os.path.join(path, 'spheroid_table_3.csv'))\n",
    "\n",
    "mapper = {\"centroid-0\": \"z\", \"centroid-1\": \"x\", \"centroid-2\": \"y\"}\n",
    "spheroid_data = spheroid_data.rename(columns = mapper)"
   ]
  },
  {
   "cell_type": "code",
   "execution_count": null,
   "metadata": {},
   "outputs": [],
   "source": [
    "spheroid = pr.single_spheroid_process(spheroid_data)\n",
    "\n",
    "G = graph.generate_voronoi_graph(spheroid, zRatio = 1, dCells = 20)"
   ]
  },
  {
   "cell_type": "code",
   "execution_count": null,
   "metadata": {},
   "outputs": [],
   "source": [
    "for ind in G.nodes():\n",
    "    \n",
    "    G.add_node(ind, color ='g')\n",
    "    \n",
    "pos =nx.get_node_attributes(G,'pos')\n",
    "\n",
    "gp.network_plot_3D(G, 5)\n",
    "\n",
    "#plt.savefig('Example_image.pdf')"
   ]
  },
  {
   "cell_type": "code",
   "execution_count": null,
   "metadata": {},
   "outputs": [],
   "source": [
    "path = r'/Volumes/Multicell/Sebastien/Gustave_Jeremie/spheroid_sample_Francoise.csv'\n",
    "\n",
    "spheroid_data = pandas.read_csv(path)\n",
    "\n",
    "spheroid = pr.single_spheroid_process(spheroid_data)\n",
    "\n",
    "G = graph.generate_voronoi_graph(spheroid, zRatio = 2, dCells = 35)"
   ]
  },
  {
   "cell_type": "code",
   "execution_count": null,
   "metadata": {},
   "outputs": [],
   "source": [
    "for ind in G.nodes():\n",
    "    \n",
    "    G.add_node(ind, color = 'r')\n",
    "    \n",
    "pos =nx.get_node_attributes(G,'pos')\n",
    "\n",
    "gp.network_plot_3D(G, 20)\n",
    "\n",
    "plt.savefig('/Volumes/Multicell/Sebastien/Gustave_Jeremie/spheroid_sample_Francoise.pdf', transparent=True)"
   ]
  },
  {
   "cell_type": "markdown",
   "metadata": {},
   "source": [
    "## Batch analyze the data"
   ]
  },
  {
   "cell_type": "code",
   "execution_count": null,
   "metadata": {},
   "outputs": [],
   "source": [
    "spheroid_path = './utility/spheroid_sample_1.csv'\n",
    "\n",
    "spheroid_data = pandas.read_csv(spheroid_path)\n",
    "\n",
    "spheroid = pr.single_spheroid_process(spheroid_data[spheroid_data['area'] > 200])\n",
    "\n",
    "G = graph.generate_voronoi_graph(spheroid, zRatio = 2, dCells = 35)"
   ]
  },
  {
   "cell_type": "code",
   "execution_count": null,
   "metadata": {},
   "outputs": [],
   "source": [
    "import glob \n",
    "from collections import defaultdict\n",
    "\n",
    "degree_frame_Vor = pandas.DataFrame()\n",
    "i = 0\n",
    "degree_frame_Geo = pandas.DataFrame()\n",
    "j = 0\n",
    "\n",
    "deg_Vor = []\n",
    "deg_Geo = []\n",
    "\n",
    "for fname in glob.glob('./utility/*.csv'):\n",
    "    \n",
    "    spheroid_data = pandas.read_csv(fname)\n",
    "    \n",
    "    spheroid_data['x'] *= 1.25\n",
    "    spheroid_data['y'] *= 1.25\n",
    "    spheroid_data['z'] *= 1.25\n",
    "    spheroid_data = spheroid_data[spheroid_data['area']>200]\n",
    "    spheroid = pr.single_spheroid_process(spheroid_data)\n",
    "\n",
    "    \n",
    "    G = generate_voronoi_graph(spheroid, zRatio = 1, dCells = 55)\n",
    "    degree_sequence = sorted([d for n, d in G.degree()], reverse=True)\n",
    "    degreeCount = collections.Counter(degree_sequence)\n",
    "    \n",
    "    for key in degreeCount.keys():\n",
    "        \n",
    "        N_tot = 0\n",
    "        \n",
    "        for k in degreeCount.keys():\n",
    "            N_tot += degreeCount[k]\n",
    "        \n",
    "        degree_frame_Vor.loc[i, 'degree'] = key\n",
    "        degree_frame_Vor.loc[i, 'p'] = degreeCount[key]/N_tot\n",
    "        degree_frame_Vor.loc[i, 'fname'] = fname\n",
    "        i += 1\n",
    "        \n",
    "        deg_Vor += list(degree_sequence)\n",
    "        \n",
    "    G = graph.generate_geometric_graph(spheroid, zRatio = 1, dCells = 26)\n",
    "    degree_sequence = sorted([d for n, d in G.degree()], reverse=True)\n",
    "    degreeCount = collections.Counter(degree_sequence)\n",
    "    \n",
    "    for key in degreeCount.keys():\n",
    "        \n",
    "        N_tot = 0\n",
    "        \n",
    "        for k in degreeCount.keys():\n",
    "            N_tot += degreeCount[k]\n",
    "        \n",
    "        degree_frame_Geo.loc[j, 'degree'] = key\n",
    "        degree_frame_Geo.loc[j, 'p'] = degreeCount[key]/N_tot\n",
    "        degree_frame_Geo.loc[j, 'fname'] = fname\n",
    "        j += 1\n",
    "        \n",
    "        deg_Geo.append(degreeCount[key])"
   ]
  },
  {
   "cell_type": "code",
   "execution_count": null,
   "metadata": {},
   "outputs": [],
   "source": [
    "indx = degree_frame_Vor.pivot(index = 'degree', columns = 'fname', values = 'p').fillna(0).mean(axis = 1).index\n",
    "mean = degree_frame_Vor.pivot(index = 'degree', columns = 'fname', values = 'p').fillna(0).mean(axis = 1).values\n",
    "std = degree_frame_Vor.pivot(index = 'degree', columns = 'fname', values = 'p').fillna(0).std(axis = 1).values\n",
    "\n",
    "indx_geo = degree_frame_Geo.pivot(index = 'degree', columns = 'fname', values = 'p').fillna(0).mean(axis = 1).index\n",
    "mean_geo = degree_frame_Geo.pivot(index = 'degree', columns = 'fname', values = 'p').fillna(0).mean(axis = 1).values\n",
    "std_geo = degree_frame_Geo.pivot(index = 'degree', columns = 'fname', values = 'p').fillna(0).std(axis = 1).values"
   ]
  },
  {
   "cell_type": "code",
   "execution_count": null,
   "metadata": {},
   "outputs": [],
   "source": [
    "import seaborn as sns\n",
    "\n",
    "sns.set_style('white')\n",
    "\n",
    "plt.errorbar(indx+0.3, mean, yerr=std, \n",
    "             marker = 's', linestyle = ' ', color = 'b',\n",
    "             label = 'Voronoi')\n",
    "\n",
    "plt.errorbar(indx_geo-0.3, mean_geo, yerr=std_geo, \n",
    "             marker = 'o', linestyle = ' ', color = 'r',\n",
    "             label = 'Geometric')"
   ]
  },
  {
   "cell_type": "code",
   "execution_count": null,
   "metadata": {},
   "outputs": [],
   "source": [
    "import numpy as np\n",
    "import matplotlib.pyplot as plt\n",
    "from scipy.optimize import curve_fit\n",
    "from scipy.special import factorial\n",
    "from scipy.stats import poisson\n",
    "\n",
    "# the bins should be of integer width, because poisson is an integer distribution\n",
    "bins = np.arange(25)-0.5\n",
    "entries, bin_edges, patches = plt.hist(deg_Vor, bins=bins, density=True, label='Data')\n",
    "\n",
    "# calculate bin centres\n",
    "bin_middles = 0.5 * (bin_edges[1:] + bin_edges[:-1])\n",
    "\n",
    "\n",
    "def fit_function(k, lamb):\n",
    "    '''poisson function, parameter lamb is the fit parameter'''\n",
    "    return poisson.pmf(k, lamb)\n",
    "\n",
    "\n",
    "# fit with curve_fit\n",
    "parameters, cov_matrix = curve_fit(fit_function, bin_middles, entries)\n",
    "\n",
    "# plot poisson-deviation with fitted parameter\n",
    "x_plot = np.arange(0, 25)\n",
    "\n",
    "plt.plot(\n",
    "    x_plot,\n",
    "    fit_function(x_plot, *parameters),\n",
    "    marker='o', linestyle='',\n",
    "    label='Fit result',\n",
    ")\n",
    "plt.legend()\n",
    "plt.show()"
   ]
  },
  {
   "cell_type": "code",
   "execution_count": null,
   "metadata": {},
   "outputs": [],
   "source": [
    "parameters"
   ]
  },
  {
   "cell_type": "code",
   "execution_count": null,
   "metadata": {},
   "outputs": [],
   "source": []
  }
 ],
 "metadata": {
  "kernelspec": {
   "display_name": "Python 3",
   "language": "python",
   "name": "python3"
  },
  "language_info": {
   "codemirror_mode": {
    "name": "ipython",
    "version": 3
   },
   "file_extension": ".py",
   "mimetype": "text/x-python",
   "name": "python",
   "nbconvert_exporter": "python",
   "pygments_lexer": "ipython3",
   "version": "3.8.3"
  }
 },
 "nbformat": 4,
 "nbformat_minor": 4
}
