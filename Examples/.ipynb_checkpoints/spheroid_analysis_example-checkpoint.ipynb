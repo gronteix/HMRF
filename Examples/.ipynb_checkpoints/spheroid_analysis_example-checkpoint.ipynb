{
 "cells": [
  {
   "cell_type": "code",
   "execution_count": null,
   "id": "working-northwest",
   "metadata": {},
   "outputs": [],
   "source": [
    "import numpy as np\n",
    "import tifffile\n",
    "import glob\n",
    "import pandas\n",
    "import matplotlib.pyplot as plt\n",
    "\n",
    "import graphsonchip\n",
    "import graphsonchip.analyse\n",
    "import graphsonchip.graphmaker\n",
    "from graphsonchip.graphmaker import make_spheroids\n",
    "from graphsonchip.graphmaker import graph_generation_func\n",
    "from graphsonchip.graphplotter import graph_plot"
   ]
  },
  {
   "cell_type": "markdown",
   "id": "played-ocean",
   "metadata": {},
   "source": [
    "## Measuring the spheroid properties\n",
    "\n",
    "Here we introduce the first function from the [SCASC library](https://gitlab.pasteur.fr/gronteix1/spheroid-graphs). The role of this function is to analyze the labeled image `labeled_image`. The options are as follows:\n",
    "\n",
    " - **`nuclei_channel`**: segmented image channel number\n",
    " - **`analyze_fluo_channels`**: extract info from other fluorescence channels\n",
    " - **`fluo_channel_analysis_method`**: choose from `basic`, `local_sphere` or `local_voronoi`. In the latter two cases the maximum cell radius is determined by the `radius` option.\n",
    " - **`cell_geometry_properties`**: measure the nuclei geometry properties (orientation, eccentricity)\n",
    " - **`radius`**: maximum cell radius (in px)\n",
    " - **`labeled_voronoi_tesselation`**: only applicable if `fluo_channel_analysis_method` is `basic`. Returns a labeled mask delimiting the Vornoi tiles of the tissue.\n",
    " - **`percentile`**: percentile in intensity distribution of the pixels within the detected cell volume\n",
    " - **`min_area`**: minimum nuclei volume"
   ]
  },
  {
   "cell_type": "code",
   "execution_count": null,
   "id": "asian-victor",
   "metadata": {},
   "outputs": [],
   "source": [
    "prop, vor = graphsonchip.analyse.cell_property_extraction.get_cell_properties(\n",
    "    labeled_image,\n",
    "    nuclei_channel = 3,\n",
    "    analyze_fluo_channels = True,\n",
    "    fluo_channel_analysis_method = 'local_voronoi',\n",
    "    cell_geometry_properties = True,\n",
    "    radius = 30,\n",
    "    labeled_voronoi_tesselation = True,\n",
    "    percentile = 95,\n",
    "    min_area = 4000\n",
    "    )"
   ]
  },
  {
   "cell_type": "code",
   "execution_count": null,
   "id": "appointed-restaurant",
   "metadata": {},
   "outputs": [],
   "source": [
    "prop = prop.dropna()\n",
    "descriptors = ['mean_intensity_1', 'psi', 'color', 'theta', 'eccentricity', 'phi']\n",
    "\n",
    "color_scheme = ['r', 'g']\n",
    "prop['color_int'] = (prop.mean_intensity_1 > prop.mean_intensity_1.median()).astype(int)\n",
    "prop['color'] = [color_scheme[prop.loc[i, 'color_int']] for i in prop.index]"
   ]
  },
  {
   "cell_type": "markdown",
   "id": "genetic-prison",
   "metadata": {},
   "source": [
    "## Building the tissue graph from the data\n",
    "\n",
    "We now introduce the second pillar from the [SCASC library](https://gitlab.pasteur.fr/gronteix1/spheroid-graphs). The goal is now to build two different objects:\n",
    "\n",
    " - A `dict` object called `spheroid` that contains all the information relative to each individual cell in the data array.\n",
    " - A `networkx` object `G` that is the graph representing the tissue proper.\n",
    "\n",
    "### From data array to structured spheroid\n",
    "\n",
    "The `single_spheroid_process` function takes two entries:\n",
    "\n",
    " - **`data_array`**: contains the information for all the cells\n",
    " - **`cell_descriptors`**: a list of properties we want to attribute to each cell. Must be contained in the `data_array` columns.\n",
    "\n",
    "### Constructing the spheroid graph\n",
    "\n",
    "The `generate_voronoi_graph` function takes three entries:\n",
    "\n",
    " - **`data_array`**: contains the information for all the cells\n",
    " - **`cell_descriptors`**: a list of properties we want to attribute to each cell. Must be contained in the `data_array` columns.\n",
    " - **`dCells`**: the maximum distance between two cells for them to be neighbors (in px)."
   ]
  },
  {
   "cell_type": "code",
   "execution_count": null,
   "id": "literary-vietnamese",
   "metadata": {},
   "outputs": [],
   "source": [
    "spheroid = make_spheroids.single_spheroid_process(prop,\n",
    "                                       cell_descriptors = descriptors)\n",
    "\n",
    "G = graph_generation_func.generate_voronoi_graph(spheroid, \n",
    "                                                 cell_descriptors = descriptors, \n",
    "                                                 dCells = 50)\n",
    "\n",
    "G = graph_generation_func.attribute_layer(G)"
   ]
  },
  {
   "source": [
    "Once the graph has been built, we can plot the spheroid using the plotting functions from the library."
   ],
   "cell_type": "markdown",
   "metadata": {}
  },
  {
   "cell_type": "code",
   "execution_count": null,
   "id": "sensitive-technique",
   "metadata": {},
   "outputs": [],
   "source": [
    "graph_plot.network_plot_3D(G)"
   ]
  }
 ],
 "metadata": {
  "kernelspec": {
   "name": "python385jvsc74a57bd03ac58945c16616dad85bb2e9e4ad0305eabbd315ddc142e81155d91a7b227640",
   "display_name": "Python 3.8.5 64-bit ('base': conda)"
  },
  "language_info": {
   "codemirror_mode": {
    "name": "ipython",
    "version": 3
   },
   "file_extension": ".py",
   "mimetype": "text/x-python",
   "name": "python",
   "nbconvert_exporter": "python",
   "pygments_lexer": "ipython3",
   "version": "3.8.5-final"
  }
 },
 "nbformat": 4,
 "nbformat_minor": 5
}